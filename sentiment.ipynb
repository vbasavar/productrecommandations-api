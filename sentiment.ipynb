{
 "cells": [
  {
   "cell_type": "code",
   "execution_count": 479,
   "id": "fd5b2c08",
   "metadata": {},
   "outputs": [
    {
     "name": "stderr",
     "output_type": "stream",
     "text": [
      "[nltk_data] Downloading package stopwords to\n",
      "[nltk_data]     C:\\Users\\vbasavar\\AppData\\Roaming\\nltk_data...\n",
      "[nltk_data]   Package stopwords is already up-to-date!\n"
     ]
    },
    {
     "data": {
      "text/plain": [
       "True"
      ]
     },
     "execution_count": 479,
     "metadata": {},
     "output_type": "execute_result"
    }
   ],
   "source": [
    "import pandas as pd\n",
    "import os,re,sys\n",
    "import requests\n",
    "import logging\n",
    "from sklearn.model_selection import train_test_split\n",
    "import nltk\n",
    "from nltk.corpus import stopwords\n",
    "from nltk.tokenize import word_tokenize\n",
    "from sklearn.ensemble import RandomForestClassifier\n",
    "import string, re,os\n",
    "import pickle,logging\n",
    "import requests,json\n",
    "from datetime import datetime\n",
    "from sklearn.feature_extraction.text import TfidfVectorizer\n",
    "from sklearn.ensemble import RandomForestClassifier\n",
    "from scipy.sparse import hstack\n",
    "from sklearn.preprocessing import MinMaxScaler\n",
    "from sklearn import metrics\n",
    "from sklearn.neighbors import KNeighborsClassifier\n",
    "from nltk.stem.porter import PorterStemmer\n",
    "from sklearn.utils import resample\n",
    "\n",
    "# Download the stopwords\n",
    "nltk.download('stopwords')\n"
   ]
  },
  {
   "cell_type": "code",
   "execution_count": 432,
   "id": "9817f5c7",
   "metadata": {},
   "outputs": [
    {
     "data": {
      "text/html": [
       "<div>\n",
       "<style scoped>\n",
       "    .dataframe tbody tr th:only-of-type {\n",
       "        vertical-align: middle;\n",
       "    }\n",
       "\n",
       "    .dataframe tbody tr th {\n",
       "        vertical-align: top;\n",
       "    }\n",
       "\n",
       "    .dataframe thead th {\n",
       "        text-align: right;\n",
       "    }\n",
       "</style>\n",
       "<table border=\"1\" class=\"dataframe\">\n",
       "  <thead>\n",
       "    <tr style=\"text-align: right;\">\n",
       "      <th></th>\n",
       "      <th>id</th>\n",
       "      <th>brand</th>\n",
       "      <th>categories</th>\n",
       "      <th>manufacturer</th>\n",
       "      <th>name</th>\n",
       "      <th>reviews_date</th>\n",
       "      <th>reviews_didPurchase</th>\n",
       "      <th>reviews_doRecommend</th>\n",
       "      <th>reviews_rating</th>\n",
       "      <th>reviews_text</th>\n",
       "      <th>reviews_title</th>\n",
       "      <th>reviews_userCity</th>\n",
       "      <th>reviews_userProvince</th>\n",
       "      <th>reviews_username</th>\n",
       "      <th>user_sentiment</th>\n",
       "    </tr>\n",
       "  </thead>\n",
       "  <tbody>\n",
       "    <tr>\n",
       "      <th>0</th>\n",
       "      <td>AV13O1A8GV-KLJ3akUyj</td>\n",
       "      <td>Universal Music</td>\n",
       "      <td>Movies, Music &amp; Books,Music,R&amp;b,Movies &amp; TV,Mo...</td>\n",
       "      <td>Universal Music Group / Cash Money</td>\n",
       "      <td>Pink Friday: Roman Reloaded Re-Up (w/dvd)</td>\n",
       "      <td>2012-11-30T06:21:45.000Z</td>\n",
       "      <td>NaN</td>\n",
       "      <td>NaN</td>\n",
       "      <td>5</td>\n",
       "      <td>i love this album. it's very good. more to the...</td>\n",
       "      <td>Just Awesome</td>\n",
       "      <td>Los Angeles</td>\n",
       "      <td>NaN</td>\n",
       "      <td>joshua</td>\n",
       "      <td>Positive</td>\n",
       "    </tr>\n",
       "    <tr>\n",
       "      <th>1</th>\n",
       "      <td>AV14LG0R-jtxr-f38QfS</td>\n",
       "      <td>Lundberg</td>\n",
       "      <td>Food,Packaged Foods,Snacks,Crackers,Snacks, Co...</td>\n",
       "      <td>Lundberg</td>\n",
       "      <td>Lundberg Organic Cinnamon Toast Rice Cakes</td>\n",
       "      <td>2017-07-09T00:00:00.000Z</td>\n",
       "      <td>True</td>\n",
       "      <td>NaN</td>\n",
       "      <td>5</td>\n",
       "      <td>Good flavor. This review was collected as part...</td>\n",
       "      <td>Good</td>\n",
       "      <td>NaN</td>\n",
       "      <td>NaN</td>\n",
       "      <td>dorothy w</td>\n",
       "      <td>Positive</td>\n",
       "    </tr>\n",
       "    <tr>\n",
       "      <th>2</th>\n",
       "      <td>AV14LG0R-jtxr-f38QfS</td>\n",
       "      <td>Lundberg</td>\n",
       "      <td>Food,Packaged Foods,Snacks,Crackers,Snacks, Co...</td>\n",
       "      <td>Lundberg</td>\n",
       "      <td>Lundberg Organic Cinnamon Toast Rice Cakes</td>\n",
       "      <td>2017-07-09T00:00:00.000Z</td>\n",
       "      <td>True</td>\n",
       "      <td>NaN</td>\n",
       "      <td>5</td>\n",
       "      <td>Good flavor.</td>\n",
       "      <td>Good</td>\n",
       "      <td>NaN</td>\n",
       "      <td>NaN</td>\n",
       "      <td>dorothy w</td>\n",
       "      <td>Positive</td>\n",
       "    </tr>\n",
       "    <tr>\n",
       "      <th>3</th>\n",
       "      <td>AV16khLE-jtxr-f38VFn</td>\n",
       "      <td>K-Y</td>\n",
       "      <td>Personal Care,Medicine Cabinet,Lubricant/Sperm...</td>\n",
       "      <td>K-Y</td>\n",
       "      <td>K-Y Love Sensuality Pleasure Gel</td>\n",
       "      <td>2016-01-06T00:00:00.000Z</td>\n",
       "      <td>False</td>\n",
       "      <td>False</td>\n",
       "      <td>1</td>\n",
       "      <td>I read through the reviews on here before look...</td>\n",
       "      <td>Disappointed</td>\n",
       "      <td>NaN</td>\n",
       "      <td>NaN</td>\n",
       "      <td>rebecca</td>\n",
       "      <td>Negative</td>\n",
       "    </tr>\n",
       "    <tr>\n",
       "      <th>4</th>\n",
       "      <td>AV16khLE-jtxr-f38VFn</td>\n",
       "      <td>K-Y</td>\n",
       "      <td>Personal Care,Medicine Cabinet,Lubricant/Sperm...</td>\n",
       "      <td>K-Y</td>\n",
       "      <td>K-Y Love Sensuality Pleasure Gel</td>\n",
       "      <td>2016-12-21T00:00:00.000Z</td>\n",
       "      <td>False</td>\n",
       "      <td>False</td>\n",
       "      <td>1</td>\n",
       "      <td>My husband bought this gel for us. The gel cau...</td>\n",
       "      <td>Irritation</td>\n",
       "      <td>NaN</td>\n",
       "      <td>NaN</td>\n",
       "      <td>walker557</td>\n",
       "      <td>Negative</td>\n",
       "    </tr>\n",
       "  </tbody>\n",
       "</table>\n",
       "</div>"
      ],
      "text/plain": [
       "                     id            brand  \\\n",
       "0  AV13O1A8GV-KLJ3akUyj  Universal Music   \n",
       "1  AV14LG0R-jtxr-f38QfS         Lundberg   \n",
       "2  AV14LG0R-jtxr-f38QfS         Lundberg   \n",
       "3  AV16khLE-jtxr-f38VFn              K-Y   \n",
       "4  AV16khLE-jtxr-f38VFn              K-Y   \n",
       "\n",
       "                                          categories  \\\n",
       "0  Movies, Music & Books,Music,R&b,Movies & TV,Mo...   \n",
       "1  Food,Packaged Foods,Snacks,Crackers,Snacks, Co...   \n",
       "2  Food,Packaged Foods,Snacks,Crackers,Snacks, Co...   \n",
       "3  Personal Care,Medicine Cabinet,Lubricant/Sperm...   \n",
       "4  Personal Care,Medicine Cabinet,Lubricant/Sperm...   \n",
       "\n",
       "                         manufacturer  \\\n",
       "0  Universal Music Group / Cash Money   \n",
       "1                            Lundberg   \n",
       "2                            Lundberg   \n",
       "3                                 K-Y   \n",
       "4                                 K-Y   \n",
       "\n",
       "                                         name              reviews_date  \\\n",
       "0   Pink Friday: Roman Reloaded Re-Up (w/dvd)  2012-11-30T06:21:45.000Z   \n",
       "1  Lundberg Organic Cinnamon Toast Rice Cakes  2017-07-09T00:00:00.000Z   \n",
       "2  Lundberg Organic Cinnamon Toast Rice Cakes  2017-07-09T00:00:00.000Z   \n",
       "3            K-Y Love Sensuality Pleasure Gel  2016-01-06T00:00:00.000Z   \n",
       "4            K-Y Love Sensuality Pleasure Gel  2016-12-21T00:00:00.000Z   \n",
       "\n",
       "  reviews_didPurchase reviews_doRecommend  reviews_rating  \\\n",
       "0                 NaN                 NaN               5   \n",
       "1                True                 NaN               5   \n",
       "2                True                 NaN               5   \n",
       "3               False               False               1   \n",
       "4               False               False               1   \n",
       "\n",
       "                                        reviews_text reviews_title  \\\n",
       "0  i love this album. it's very good. more to the...  Just Awesome   \n",
       "1  Good flavor. This review was collected as part...          Good   \n",
       "2                                       Good flavor.          Good   \n",
       "3  I read through the reviews on here before look...  Disappointed   \n",
       "4  My husband bought this gel for us. The gel cau...    Irritation   \n",
       "\n",
       "  reviews_userCity reviews_userProvince reviews_username user_sentiment  \n",
       "0      Los Angeles                  NaN           joshua       Positive  \n",
       "1              NaN                  NaN        dorothy w       Positive  \n",
       "2              NaN                  NaN        dorothy w       Positive  \n",
       "3              NaN                  NaN          rebecca       Negative  \n",
       "4              NaN                  NaN        walker557       Negative  "
      ]
     },
     "execution_count": 432,
     "metadata": {},
     "output_type": "execute_result"
    }
   ],
   "source": [
    "df=pd.read_csv(\"sample30.csv\")\n",
    "df.head()"
   ]
  },
  {
   "cell_type": "markdown",
   "id": "9d06c29e",
   "metadata": {},
   "source": [
    "### Preprocess function to perform below\n",
    "1 ) Convert the text to lowercase\n",
    "\n",
    "2 ) Use porter stemmer to stem the word to its base form\n",
    "\n",
    "3 ) Remove the stopwords using stopwords module of nltk"
   ]
  },
  {
   "cell_type": "code",
   "execution_count": 433,
   "id": "2b5b1f2a",
   "metadata": {},
   "outputs": [],
   "source": [
    "def preprocess(document):\n",
    "    #lowercase\n",
    "    document = str(document).lower()\n",
    "    stop_words = stopwords.words(\"english\")\n",
    "    stemmer = PorterStemmer()\n",
    "    words = word_tokenize(document)\n",
    "    words = [stemmer.stem(word) for word in words if word not in stop_words and word not in string.punctuation and re.sub(\"\\d.*\", \"\", word)]\n",
    "    document = \" \".join(words)\n",
    "    return document\n"
   ]
  },
  {
   "cell_type": "markdown",
   "id": "9aa3c719",
   "metadata": {},
   "source": [
    "### Select only the required columns from the main dataset"
   ]
  },
  {
   "cell_type": "code",
   "execution_count": 434,
   "id": "58ce0b2e",
   "metadata": {},
   "outputs": [],
   "source": [
    "reviews=df[['name','reviews_username','reviews_rating','reviews_text','reviews_title','user_sentiment']]"
   ]
  },
  {
   "cell_type": "code",
   "execution_count": 436,
   "id": "9c147449",
   "metadata": {},
   "outputs": [
    {
     "data": {
      "text/plain": [
       "name                0\n",
       "reviews_username    0\n",
       "reviews_rating      0\n",
       "reviews_text        0\n",
       "reviews_title       0\n",
       "user_sentiment      0\n",
       "dtype: int64"
      ]
     },
     "execution_count": 436,
     "metadata": {},
     "output_type": "execute_result"
    }
   ],
   "source": [
    "reviews=reviews[~reviews['reviews_username'].isna()]\n",
    "reviews=reviews[~reviews['reviews_title'].isna()]\n",
    "reviews=reviews[~reviews['user_sentiment'].isna()]\n",
    "reviews.isna().sum()\n"
   ]
  },
  {
   "cell_type": "markdown",
   "id": "2dc8aeed",
   "metadata": {},
   "source": [
    "### Preprocess the review title and review text"
   ]
  },
  {
   "cell_type": "code",
   "execution_count": 475,
   "id": "8ce7891e",
   "metadata": {},
   "outputs": [
    {
     "data": {
      "text/html": [
       "<div>\n",
       "<style scoped>\n",
       "    .dataframe tbody tr th:only-of-type {\n",
       "        vertical-align: middle;\n",
       "    }\n",
       "\n",
       "    .dataframe tbody tr th {\n",
       "        vertical-align: top;\n",
       "    }\n",
       "\n",
       "    .dataframe thead th {\n",
       "        text-align: right;\n",
       "    }\n",
       "</style>\n",
       "<table border=\"1\" class=\"dataframe\">\n",
       "  <thead>\n",
       "    <tr style=\"text-align: right;\">\n",
       "      <th></th>\n",
       "      <th>name</th>\n",
       "      <th>reviews_username</th>\n",
       "      <th>reviews_rating</th>\n",
       "      <th>reviews_text</th>\n",
       "      <th>reviews_title</th>\n",
       "      <th>user_sentiment</th>\n",
       "      <th>reviews_text1</th>\n",
       "      <th>reviews_title1</th>\n",
       "    </tr>\n",
       "  </thead>\n",
       "  <tbody>\n",
       "    <tr>\n",
       "      <th>11114</th>\n",
       "      <td>Clorox Disinfecting Wipes Value Pack Scented 1...</td>\n",
       "      <td>cmtangela</td>\n",
       "      <td>5</td>\n",
       "      <td>I like knowing things are disinfected, and thi...</td>\n",
       "      <td>Great Disinfectant!</td>\n",
       "      <td>Negative</td>\n",
       "      <td>like know thing disinfect job want ensur cut b...</td>\n",
       "      <td>great disinfect</td>\n",
       "    </tr>\n",
       "    <tr>\n",
       "      <th>22337</th>\n",
       "      <td>Alex Cross (dvdvideo)</td>\n",
       "      <td>bigmama4773</td>\n",
       "      <td>5</td>\n",
       "      <td>Love Tyler Perry movies! Def a different roll ...</td>\n",
       "      <td>A different Tyler Perry</td>\n",
       "      <td>Positive</td>\n",
       "      <td>love tyler perri movi def differ roll</td>\n",
       "      <td>differ tyler perri</td>\n",
       "    </tr>\n",
       "    <tr>\n",
       "      <th>25042</th>\n",
       "      <td>Godzilla 3d Includes Digital Copy Ultraviolet ...</td>\n",
       "      <td>snuffy07</td>\n",
       "      <td>5</td>\n",
       "      <td>This movie revitalizes the classic godzilla th...</td>\n",
       "      <td>Best yet</td>\n",
       "      <td>Positive</td>\n",
       "      <td>movi revit classic godzilla grew</td>\n",
       "      <td>best yet</td>\n",
       "    </tr>\n",
       "    <tr>\n",
       "      <th>6045</th>\n",
       "      <td>Red (special Edition) (dvdvideo)</td>\n",
       "      <td>chigdon</td>\n",
       "      <td>5</td>\n",
       "      <td>I live Bruce Willis and he didn't let me down ...</td>\n",
       "      <td>great movie</td>\n",
       "      <td>Negative</td>\n",
       "      <td>live bruce willi n't let movi</td>\n",
       "      <td>great movi</td>\n",
       "    </tr>\n",
       "    <tr>\n",
       "      <th>21082</th>\n",
       "      <td>Tostitos Bite Size Tortilla Chips</td>\n",
       "      <td>teeree</td>\n",
       "      <td>5</td>\n",
       "      <td>They hold up with whatever dip you are serving.</td>\n",
       "      <td>Chips and dip</td>\n",
       "      <td>Negative</td>\n",
       "      <td>hold whatev dip serv</td>\n",
       "      <td>chip dip</td>\n",
       "    </tr>\n",
       "  </tbody>\n",
       "</table>\n",
       "</div>"
      ],
      "text/plain": [
       "                                                    name reviews_username  \\\n",
       "11114  Clorox Disinfecting Wipes Value Pack Scented 1...        cmtangela   \n",
       "22337                              Alex Cross (dvdvideo)      bigmama4773   \n",
       "25042  Godzilla 3d Includes Digital Copy Ultraviolet ...         snuffy07   \n",
       "6045                    Red (special Edition) (dvdvideo)          chigdon   \n",
       "21082                  Tostitos Bite Size Tortilla Chips           teeree   \n",
       "\n",
       "       reviews_rating                                       reviews_text  \\\n",
       "11114               5  I like knowing things are disinfected, and thi...   \n",
       "22337               5  Love Tyler Perry movies! Def a different roll ...   \n",
       "25042               5  This movie revitalizes the classic godzilla th...   \n",
       "6045                5  I live Bruce Willis and he didn't let me down ...   \n",
       "21082               5    They hold up with whatever dip you are serving.   \n",
       "\n",
       "                 reviews_title user_sentiment  \\\n",
       "11114      Great Disinfectant!       Negative   \n",
       "22337  A different Tyler Perry       Positive   \n",
       "25042                 Best yet       Positive   \n",
       "6045               great movie       Negative   \n",
       "21082            Chips and dip       Negative   \n",
       "\n",
       "                                           reviews_text1      reviews_title1  \n",
       "11114  like know thing disinfect job want ensur cut b...     great disinfect  \n",
       "22337              love tyler perri movi def differ roll  differ tyler perri  \n",
       "25042                   movi revit classic godzilla grew            best yet  \n",
       "6045                       live bruce willi n't let movi          great movi  \n",
       "21082                               hold whatev dip serv            chip dip  "
      ]
     },
     "execution_count": 475,
     "metadata": {},
     "output_type": "execute_result"
    }
   ],
   "source": [
    "reviews['reviews_text1']=reviews['reviews_text'].apply(preprocess)\n",
    "reviews['reviews_title1']=reviews['reviews_title'].apply(preprocess)\n",
    "reviews.head()\n"
   ]
  },
  {
   "cell_type": "code",
   "execution_count": 476,
   "id": "3c55df86",
   "metadata": {},
   "outputs": [
    {
     "data": {
      "text/html": [
       "<div>\n",
       "<style scoped>\n",
       "    .dataframe tbody tr th:only-of-type {\n",
       "        vertical-align: middle;\n",
       "    }\n",
       "\n",
       "    .dataframe tbody tr th {\n",
       "        vertical-align: top;\n",
       "    }\n",
       "\n",
       "    .dataframe thead th {\n",
       "        text-align: right;\n",
       "    }\n",
       "</style>\n",
       "<table border=\"1\" class=\"dataframe\">\n",
       "  <thead>\n",
       "    <tr style=\"text-align: right;\">\n",
       "      <th></th>\n",
       "      <th>name</th>\n",
       "      <th>reviews_username</th>\n",
       "      <th>reviews_rating</th>\n",
       "      <th>reviews_text</th>\n",
       "      <th>reviews_title</th>\n",
       "      <th>user_sentiment</th>\n",
       "      <th>reviews_text1</th>\n",
       "      <th>reviews_title1</th>\n",
       "    </tr>\n",
       "  </thead>\n",
       "  <tbody>\n",
       "    <tr>\n",
       "      <th>11114</th>\n",
       "      <td>Clorox Disinfecting Wipes Value Pack Scented 1...</td>\n",
       "      <td>cmtangela</td>\n",
       "      <td>5</td>\n",
       "      <td>I like knowing things are disinfected, and thi...</td>\n",
       "      <td>Great Disinfectant!</td>\n",
       "      <td>Negative</td>\n",
       "      <td>like know thing disinfect job want ensur cut b...</td>\n",
       "      <td>great disinfect</td>\n",
       "    </tr>\n",
       "    <tr>\n",
       "      <th>22337</th>\n",
       "      <td>Alex Cross (dvdvideo)</td>\n",
       "      <td>bigmama4773</td>\n",
       "      <td>5</td>\n",
       "      <td>Love Tyler Perry movies! Def a different roll ...</td>\n",
       "      <td>A different Tyler Perry</td>\n",
       "      <td>Positive</td>\n",
       "      <td>love tyler perri movi def differ roll</td>\n",
       "      <td>differ tyler perri</td>\n",
       "    </tr>\n",
       "    <tr>\n",
       "      <th>25042</th>\n",
       "      <td>Godzilla 3d Includes Digital Copy Ultraviolet ...</td>\n",
       "      <td>snuffy07</td>\n",
       "      <td>5</td>\n",
       "      <td>This movie revitalizes the classic godzilla th...</td>\n",
       "      <td>Best yet</td>\n",
       "      <td>Positive</td>\n",
       "      <td>movi revit classic godzilla grew</td>\n",
       "      <td>best yet</td>\n",
       "    </tr>\n",
       "    <tr>\n",
       "      <th>6045</th>\n",
       "      <td>Red (special Edition) (dvdvideo)</td>\n",
       "      <td>chigdon</td>\n",
       "      <td>5</td>\n",
       "      <td>I live Bruce Willis and he didn't let me down ...</td>\n",
       "      <td>great movie</td>\n",
       "      <td>Negative</td>\n",
       "      <td>live bruce willi n't let movi</td>\n",
       "      <td>great movi</td>\n",
       "    </tr>\n",
       "    <tr>\n",
       "      <th>21082</th>\n",
       "      <td>Tostitos Bite Size Tortilla Chips</td>\n",
       "      <td>teeree</td>\n",
       "      <td>5</td>\n",
       "      <td>They hold up with whatever dip you are serving.</td>\n",
       "      <td>Chips and dip</td>\n",
       "      <td>Negative</td>\n",
       "      <td>hold whatev dip serv</td>\n",
       "      <td>chip dip</td>\n",
       "    </tr>\n",
       "  </tbody>\n",
       "</table>\n",
       "</div>"
      ],
      "text/plain": [
       "                                                    name reviews_username  \\\n",
       "11114  Clorox Disinfecting Wipes Value Pack Scented 1...        cmtangela   \n",
       "22337                              Alex Cross (dvdvideo)      bigmama4773   \n",
       "25042  Godzilla 3d Includes Digital Copy Ultraviolet ...         snuffy07   \n",
       "6045                    Red (special Edition) (dvdvideo)          chigdon   \n",
       "21082                  Tostitos Bite Size Tortilla Chips           teeree   \n",
       "\n",
       "       reviews_rating                                       reviews_text  \\\n",
       "11114               5  I like knowing things are disinfected, and thi...   \n",
       "22337               5  Love Tyler Perry movies! Def a different roll ...   \n",
       "25042               5  This movie revitalizes the classic godzilla th...   \n",
       "6045                5  I live Bruce Willis and he didn't let me down ...   \n",
       "21082               5    They hold up with whatever dip you are serving.   \n",
       "\n",
       "                 reviews_title user_sentiment  \\\n",
       "11114      Great Disinfectant!       Negative   \n",
       "22337  A different Tyler Perry       Positive   \n",
       "25042                 Best yet       Positive   \n",
       "6045               great movie       Negative   \n",
       "21082            Chips and dip       Negative   \n",
       "\n",
       "                                           reviews_text1      reviews_title1  \n",
       "11114  like know thing disinfect job want ensur cut b...     great disinfect  \n",
       "22337              love tyler perri movi def differ roll  differ tyler perri  \n",
       "25042                   movi revit classic godzilla grew            best yet  \n",
       "6045                       live bruce willi n't let movi          great movi  \n",
       "21082                               hold whatev dip serv            chip dip  "
      ]
     },
     "execution_count": 476,
     "metadata": {},
     "output_type": "execute_result"
    }
   ],
   "source": [
    "reviews.head()"
   ]
  },
  {
   "cell_type": "markdown",
   "id": "a886fdfc",
   "metadata": {},
   "source": [
    "### Address the data imbalance\n",
    "\n",
    "1 ) Address the data imbalance with respect to user_sentiment\n",
    "\n",
    "2 ) Shuffle the dataset"
   ]
  },
  {
   "cell_type": "code",
   "execution_count": 439,
   "id": "e2613b7e",
   "metadata": {},
   "outputs": [],
   "source": [
    "def address_imbalance_binary(reviews):\n",
    "    col='user_sentiment'\n",
    "    low = reviews[reviews[col] == 'Negative']\n",
    "    high = reviews[reviews[col] == 'Positive']\n",
    "\n",
    "    resample_low = resample(low, replace=True, n_samples=len(high), random_state=1)\n",
    "    output = pd.concat([high, resample_low])\n",
    "    output=output.sample(frac = 1)\n",
    "    return output"
   ]
  },
  {
   "cell_type": "code",
   "execution_count": 441,
   "id": "9d34a22a",
   "metadata": {},
   "outputs": [
    {
     "name": "stdout",
     "output_type": "stream",
     "text": [
      "(52824, 8)\n",
      "Negative    26412\n",
      "Positive    26412\n",
      "Name: user_sentiment, dtype: int64\n"
     ]
    }
   ],
   "source": [
    "# Call the data imbalance function to address the issue\n",
    "\n",
    "print(\"-------------Before addressing the data imbalance---------------\")\n",
    "print(reviews.user_sentiment.value_counts())\n",
    "reviews=address_imbalance_binary(reviews)\n",
    "print(\"-------------After addressing the data imbalance----------------\")\n",
    "print(reviews.user_sentiment.value_counts())"
   ]
  },
  {
   "cell_type": "markdown",
   "id": "43d8d011",
   "metadata": {},
   "source": [
    "### Function to create classification model and save the pickle files for later use"
   ]
  },
  {
   "cell_type": "code",
   "execution_count": 443,
   "id": "ee468ce5",
   "metadata": {},
   "outputs": [],
   "source": [
    "def build_predict_save_model():\n",
    "    reviews.head()\n",
    "    X_train, X_test, y_train, y_test = train_test_split(reviews[['reviews_text1','reviews_title1']], reviews['user_sentiment'], random_state=1)\n",
    "    vect=TfidfVectorizer()\n",
    "    vect1=TfidfVectorizer()\n",
    "    \n",
    "    vect.fit(X_train['reviews_text1'])\n",
    "    X_train_transformed=vect.fit_transform(X_train['reviews_text1'])\n",
    "    X_test_transformed=vect.transform(X_test['reviews_text1'])\n",
    "    \n",
    "    vect1.fit(X_train['reviews_title1'])\n",
    "    X_train_cats=vect1.fit_transform(X_train['reviews_title1'])\n",
    "    X_test_cats=vect1.transform(X_test['reviews_title1'])\n",
    "    \n",
    "    x_train_final=hstack((X_train_transformed,X_train_cats))\n",
    "    x_test_final=hstack((X_test_transformed,X_test_cats))\n",
    "\n",
    "    rfc = RandomForestClassifier()\n",
    "    rfc.fit(x_train_final, y_train)\n",
    "    y_pred_class = rfc.predict(x_test_final)\n",
    "    accuracy=str(round(metrics.accuracy_score(y_test, y_pred_class) * 100, 2)) + \"%\"\n",
    "    print(f\"category Model accuracy rfc: {accuracy}\")\n",
    "\n",
    "    \n",
    "    with open(\"category_model_allG_rfc.pkl\",\"wb\") as f:\n",
    "        pickle.dump(rfc, f) \n",
    "\n",
    "    with open(\"category_model_allG_vect.pkl\", \"wb\") as f:\n",
    "        pickle.dump(vect, f) \n",
    "\n",
    "    with open(\"category_model_allG_vect1.pkl\", \"wb\") as f:\n",
    "        pickle.dump(vect1, f)\n",
    "        \n",
    "    mnb = RandomForestClassifier()\n",
    "    rfc.fit(x_train_final, y_train)\n",
    "    y_pred_class = rfc.predict(x_test_final)\n",
    "    accuracy=str(round(metrics.accuracy_score(y_test, y_pred_class) * 100, 2)) + \"%\"\n",
    "    print(f\"category Model accuracy rfc: {accuracy}\")\n",
    "\n",
    "    \n",
    "    with open(\"category_model_allG_mnb.pkl\",\"wb\") as f:\n",
    "        pickle.dump(rfc, f) \n",
    "\n",
    "    with open(\"category_model_allG_vect.pkl\", \"wb\") as f:\n",
    "        pickle.dump(vect, f) \n",
    "\n",
    "    with open(\"category_model_allG_vect1.pkl\", \"wb\") as f:\n",
    "        pickle.dump(vect1, f)"
   ]
  },
  {
   "cell_type": "code",
   "execution_count": 444,
   "id": "c6448e6d",
   "metadata": {},
   "outputs": [
    {
     "name": "stdout",
     "output_type": "stream",
     "text": [
      "category Model accuracy rfc: 99.17%\n",
      "category Model accuracy rfc: 99.13%\n"
     ]
    }
   ],
   "source": [
    "build_predict_save_model()"
   ]
  },
  {
   "cell_type": "code",
   "execution_count": 445,
   "id": "2973bf68",
   "metadata": {},
   "outputs": [
    {
     "data": {
      "text/plain": [
       "TfidfVectorizer()"
      ]
     },
     "execution_count": 445,
     "metadata": {},
     "output_type": "execute_result"
    }
   ],
   "source": []
  },
  {
   "cell_type": "code",
   "execution_count": 446,
   "id": "59013272",
   "metadata": {},
   "outputs": [
    {
     "name": "stdout",
     "output_type": "stream",
     "text": [
      "  (0, 2715)\t1.0\n",
      "  (0, 208)\t1.0\n"
     ]
    },
    {
     "data": {
      "text/plain": [
       "'Negative'"
      ]
     },
     "execution_count": 446,
     "metadata": {},
     "output_type": "execute_result"
    }
   ],
   "source": []
  },
  {
   "cell_type": "markdown",
   "id": "68f8394c",
   "metadata": {},
   "source": [
    "### Test the model using the pickle files"
   ]
  },
  {
   "cell_type": "code",
   "execution_count": 471,
   "id": "9782ef0b",
   "metadata": {},
   "outputs": [],
   "source": [
    "rfc=pickle.load(open(\"category_model_allG_rfc.pkl\",\"rb\"))\n",
    "vect=pickle.load(open(\"category_model_allG_vect.pkl\", \"rb\"))\n",
    "vect1=pickle.load(open(\"category_model_allG_vect1.pkl\", \"rb\"))\n",
    "\n",
    "# Sample the dataset\n",
    "test=reviews.sample(frac=1).head(20)"
   ]
  },
  {
   "cell_type": "code",
   "execution_count": 472,
   "id": "82178683",
   "metadata": {},
   "outputs": [
    {
     "name": "stdout",
     "output_type": "stream",
     "text": [
      "Godzilla 3d Includes Digital Copy Ultraviolet 3d/2d Blu-Ray/dvd\n",
      "Godzilla 3d Includes Digital Copy Ultraviolet 3d/2d Blu-Ray/dvd\n",
      "Godzilla 3d Includes Digital Copy Ultraviolet 3d/2d Blu-Ray/dvd\n",
      "Chester's Cheese Flavored Puffcorn Snacks\n",
      "Clorox Disinfecting Wipes Value Pack Scented 150 Ct Total\n",
      "Clorox Disinfecting Wipes Value Pack Scented 150 Ct Total\n",
      "Clorox Disinfecting Wipes Value Pack Scented 150 Ct Total\n",
      "L'or233al Paris Elvive Extraordinary Clay Rebalancing Conditioner - 12.6 Fl Oz\n",
      "Godzilla 3d Includes Digital Copy Ultraviolet 3d/2d Blu-Ray/dvd\n",
      "Clear Scalp & Hair Therapy Total Care Nourishing Shampoo\n"
     ]
    }
   ],
   "source": [
    "for line in test.itertuples():\n",
    "    review_text=line[5]\n",
    "    review_body=line[4]\n",
    "    if rfc.predict(hstack((vect.transform([preprocess(review_body)]),vect1.transform([preprocess(review_text)]))))[0] == \"Positive\":\n",
    "        print(line[1])"
   ]
  },
  {
   "cell_type": "code",
   "execution_count": null,
   "id": "f334b84e",
   "metadata": {},
   "outputs": [],
   "source": []
  },
  {
   "cell_type": "code",
   "execution_count": 477,
   "id": "53cb5362",
   "metadata": {},
   "outputs": [
    {
     "ename": "NameError",
     "evalue": "name 'nltk' is not defined",
     "output_type": "error",
     "traceback": [
      "\u001b[1;31m---------------------------------------------------------------------------\u001b[0m",
      "\u001b[1;31mNameError\u001b[0m                                 Traceback (most recent call last)",
      "\u001b[1;32m<ipython-input-477-80fd67b89993>\u001b[0m in \u001b[0;36m<module>\u001b[1;34m\u001b[0m\n\u001b[1;32m----> 1\u001b[1;33m \u001b[0mnltk\u001b[0m\u001b[1;33m\u001b[0m\u001b[1;33m\u001b[0m\u001b[0m\n\u001b[0m",
      "\u001b[1;31mNameError\u001b[0m: name 'nltk' is not defined"
     ]
    }
   ],
   "source": [
    "nltk"
   ]
  },
  {
   "cell_type": "code",
   "execution_count": null,
   "id": "c1f682e5",
   "metadata": {},
   "outputs": [],
   "source": []
  }
 ],
 "metadata": {
  "kernelspec": {
   "display_name": "Python 3",
   "language": "python",
   "name": "python3"
  },
  "language_info": {
   "codemirror_mode": {
    "name": "ipython",
    "version": 3
   },
   "file_extension": ".py",
   "mimetype": "text/x-python",
   "name": "python",
   "nbconvert_exporter": "python",
   "pygments_lexer": "ipython3",
   "version": "3.7.2"
  }
 },
 "nbformat": 4,
 "nbformat_minor": 5
}
